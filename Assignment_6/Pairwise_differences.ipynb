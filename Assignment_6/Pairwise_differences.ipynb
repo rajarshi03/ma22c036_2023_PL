{
 "cells": [
  {
   "cell_type": "code",
   "execution_count": 15,
   "metadata": {},
   "outputs": [],
   "source": [
    "import numpy as np\n",
    "x = np.random.rand(5)"
   ]
  },
  {
   "cell_type": "code",
   "execution_count": 16,
   "metadata": {},
   "outputs": [],
   "source": [
    "D = np.subtract.outer(x, x)"
   ]
  },
  {
   "cell_type": "code",
   "execution_count": 17,
   "metadata": {},
   "outputs": [
    {
     "data": {
      "text/plain": [
       "array([[ 0.        , -0.78862781, -0.52236096, -0.02651166,  0.15455268],\n",
       "       [ 0.78862781,  0.        ,  0.26626685,  0.76211615,  0.94318049],\n",
       "       [ 0.52236096, -0.26626685,  0.        ,  0.49584929,  0.67691364],\n",
       "       [ 0.02651166, -0.76211615, -0.49584929,  0.        ,  0.18106434],\n",
       "       [-0.15455268, -0.94318049, -0.67691364, -0.18106434,  0.        ]])"
      ]
     },
     "execution_count": 17,
     "metadata": {},
     "output_type": "execute_result"
    }
   ],
   "source": [
    "D"
   ]
  },
  {
   "cell_type": "markdown",
   "metadata": {},
   "source": [
    "Alternate method:"
   ]
  },
  {
   "cell_type": "code",
   "execution_count": 18,
   "metadata": {},
   "outputs": [],
   "source": [
    "from itertools import product\n",
    "\n",
    "\n",
    "n=len(x)\n",
    "D=np.zeros((n,n))"
   ]
  },
  {
   "cell_type": "code",
   "execution_count": 19,
   "metadata": {},
   "outputs": [],
   "source": [
    "for i,j in product(range(n),range(n)): D[i][j]=x[i]-x[j] "
   ]
  },
  {
   "cell_type": "code",
   "execution_count": 20,
   "metadata": {},
   "outputs": [
    {
     "data": {
      "text/plain": [
       "array([[ 0.        , -0.78862781, -0.52236096, -0.02651166,  0.15455268],\n",
       "       [ 0.78862781,  0.        ,  0.26626685,  0.76211615,  0.94318049],\n",
       "       [ 0.52236096, -0.26626685,  0.        ,  0.49584929,  0.67691364],\n",
       "       [ 0.02651166, -0.76211615, -0.49584929,  0.        ,  0.18106434],\n",
       "       [-0.15455268, -0.94318049, -0.67691364, -0.18106434,  0.        ]])"
      ]
     },
     "execution_count": 20,
     "metadata": {},
     "output_type": "execute_result"
    }
   ],
   "source": [
    "D"
   ]
  }
 ],
 "metadata": {
  "kernelspec": {
   "display_name": "iitm_PL",
   "language": "python",
   "name": "python3"
  },
  "language_info": {
   "codemirror_mode": {
    "name": "ipython",
    "version": 3
   },
   "file_extension": ".py",
   "mimetype": "text/x-python",
   "name": "python",
   "nbconvert_exporter": "python",
   "pygments_lexer": "ipython3",
   "version": "3.10.12"
  },
  "orig_nbformat": 4
 },
 "nbformat": 4,
 "nbformat_minor": 2
}

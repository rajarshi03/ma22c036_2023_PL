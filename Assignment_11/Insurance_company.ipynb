{
 "cells": [
  {
   "cell_type": "code",
   "execution_count": 1,
   "metadata": {},
   "outputs": [
    {
     "name": "stdout",
     "output_type": "stream",
     "text": [
      "Probability of ruin: 0.0206\n"
     ]
    }
   ],
   "source": [
    "def probability_of_ruin(initial_reserve, daily_earnings, claim_probability):\n",
    "    # Create a list to store the probabilities of ruin for each reserve value.\n",
    "    # Initialize with all probabilities as 0.\n",
    "    P = [0.0] * (initial_reserve + 1)\n",
    "    \n",
    "    # Base case: P(0) = 1 (company is already ruined when reserve is 0).\n",
    "    P[0] = 1.0\n",
    "    \n",
    "    # Iterate from 1 to the initial reserve.\n",
    "    for r in range(1, initial_reserve + 1):\n",
    "        # Calculate the probability of earning $100 and the probability of incurring a $200 claim.\n",
    "        p_earn = 1 - claim_probability\n",
    "        p_claim = claim_probability\n",
    "        \n",
    "        # Calculate P(r) using the recursive relationship.\n",
    "        P[r] = p_earn * P[min(r + daily_earnings, initial_reserve)] + p_claim * P[max(r - 2*daily_earnings, 0)]\n",
    "    \n",
    "    # The probability of ruin starting with the initial reserve is P(initial_reserve).\n",
    "    return P[initial_reserve]\n",
    "\n",
    "# Parameters\n",
    "initial_reserve = 1000\n",
    "daily_earnings = 100\n",
    "claim_probability = 0.46\n",
    "\n",
    "# Calculate the probability of ruin\n",
    "probability_ruin = probability_of_ruin(initial_reserve, daily_earnings, claim_probability)\n",
    "print(f\"Probability of ruin: {probability_ruin:.4f}\")\n"
   ]
  },
  {
   "cell_type": "code",
   "execution_count": 2,
   "metadata": {},
   "outputs": [
    {
     "name": "stdout",
     "output_type": "stream",
     "text": [
      "Minimum reserve to meet the target probability: 100000\n"
     ]
    }
   ],
   "source": [
    "def find_reserve_threshold(target_probability, daily_earnings, claim_probability):\n",
    "    # Define a range for possible reserve values.\n",
    "    low = 0\n",
    "    high = 100000  # You can adjust this upper limit as needed.\n",
    "\n",
    "    while low < high:\n",
    "        # Calculate the midpoint between low and high.\n",
    "        mid = (low + high) // 2\n",
    "        \n",
    "        # Calculate the probability of ruin for the current reserve.\n",
    "        probability_ruin = probability_of_ruin(mid, daily_earnings, claim_probability)\n",
    "        \n",
    "        if probability_ruin < target_probability:\n",
    "            # If the probability of ruin is below the target, move the lower bound up.\n",
    "            low = mid + 1\n",
    "        else:\n",
    "            # If the probability of ruin is at or above the target, move the upper bound down.\n",
    "            high = mid\n",
    "\n",
    "    # The value of 'low' will be the reserve that meets the target probability.\n",
    "    return low\n",
    "\n",
    "# Target probability (0.1% = 0.001)\n",
    "target_probability = 0.001\n",
    "daily_earnings = 100\n",
    "claim_probability = 0.46\n",
    "\n",
    "# Find the reserve threshold\n",
    "reserve_threshold = find_reserve_threshold(target_probability, daily_earnings, claim_probability)\n",
    "print(f\"Minimum reserve to meet the target probability: {reserve_threshold}\")\n"
   ]
  }
 ],
 "metadata": {
  "kernelspec": {
   "display_name": "iitm_PL",
   "language": "python",
   "name": "python3"
  },
  "language_info": {
   "codemirror_mode": {
    "name": "ipython",
    "version": 3
   },
   "file_extension": ".py",
   "mimetype": "text/x-python",
   "name": "python",
   "nbconvert_exporter": "python",
   "pygments_lexer": "ipython3",
   "version": "3.10.12"
  }
 },
 "nbformat": 4,
 "nbformat_minor": 2
}

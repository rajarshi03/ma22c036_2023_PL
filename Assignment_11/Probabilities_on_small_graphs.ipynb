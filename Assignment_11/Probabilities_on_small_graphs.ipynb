{
 "cells": [
  {
   "cell_type": "code",
   "execution_count": 1,
   "metadata": {},
   "outputs": [
    {
     "name": "stdout",
     "output_type": "stream",
     "text": [
      "The probability of reaching state 2 from state 0 is: 0.0000\n"
     ]
    }
   ],
   "source": [
    "import numpy as np\n",
    "\n",
    "# Define your transition probability matrix (replace this with your actual data)\n",
    "# Example matrix for illustration purposes:\n",
    "transition_matrix = np.array([\n",
    "    [0.2, 0.3, 0.5],\n",
    "    [0.4, 0.1, 0.5],\n",
    "    [0.0, 0.0, 1.0]\n",
    "])\n",
    "\n",
    "# Define the starting state and the destination state\n",
    "start_state = 0  # Replace with your actual starting state\n",
    "destination_state = 2  # Replace with your actual destination state\n",
    "\n",
    "# Check if the destination state is absorbing (no outgoing edges)\n",
    "absorbing_states = np.where(transition_matrix[:, destination_state] == 1)\n",
    "\n",
    "if destination_state in absorbing_states[0]:\n",
    "    # The destination state is absorbing, so the probability is 1 if it's the start state, 0 otherwise\n",
    "    probability = 1 if start_state == destination_state else 0\n",
    "else:\n",
    "    # Calculate the fundamental matrix (N) for non-absorbing states\n",
    "    non_absorbing_states = np.delete(range(transition_matrix.shape[0]), absorbing_states)\n",
    "    Q = transition_matrix[np.ix_(non_absorbing_states, non_absorbing_states)]\n",
    "    N = np.linalg.inv(np.identity(Q.shape[0]) - Q)\n",
    "\n",
    "    # Probability of reaching the destination state from the start state\n",
    "    probability = N[start_state, destination_state]\n",
    "\n",
    "print(f\"The probability of reaching state {destination_state} from state {start_state} is: {probability:.4f}\")\n"
   ]
  },
  {
   "cell_type": "code",
   "execution_count": null,
   "metadata": {},
   "outputs": [],
   "source": [
    "import numpy as np\n",
    "\n",
    "# Define the transition probability matrix (replace this with your actual data)\n",
    "transition_matrix = np.array([\n",
    "    [0.1, 0.6, 0.3, 0.0],\n",
    "    [0.2, 0.0, 0.7, 0.1],\n",
    "    [0.3, 0.0, 0.4, 0.3],\n",
    "    [0.0, 0.0, 0.0, 1.0]  # State 3 is absorbing\n",
    "])\n",
    "\n",
    "# Define the sets A and B\n",
    "A = {0, 1, 2}\n",
    "B = {3}\n",
    "\n",
    "# Calculate the probability of hitting A from B using the fundamental matrix\n",
    "Q = transition_matrix[np.ix_(list(B), list(B))]\n",
    "N = np.linalg.inv(np.identity(len(B)) - Q)\n",
    "probabilities = N.dot(transition_matrix[list(B), list(A)])\n",
    "\n",
    "print(\"Probability of hitting A from B:\", probabilities)\n"
   ]
  },
  {
   "cell_type": "code",
   "execution_count": null,
   "metadata": {},
   "outputs": [],
   "source": [
    "import numpy as np\n",
    "\n",
    "# Define the transition probability matrix (replace this with your actual data)\n",
    "transition_matrix = np.array([\n",
    "    [0.1, 0.6, 0.3, 0.0, 0.0, 0.0, 0.0],\n",
    "    [0.2, 0.0, 0.7, 0.1, 0.0, 0.0, 0.0],\n",
    "    [0.3, 0.0, 0.4, 0.3, 0.0, 0.0, 0.0],\n",
    "    [0.0, 0.0, 0.0, 1.0, 0.0, 0.0, 0.0],\n",
    "    [0.0, 0.0, 0.0, 0.0, 0.4, 0.5, 0.1],\n",
    "    [0.0, 0.0, 0.0, 0.0, 0.2, 0.2, 0.6],\n",
    "    [0.0, 0.0, 0.0, 0.0, 0.0, 0.0, 1.0]\n",
    "])\n",
    "\n",
    "# Define the sets A = {0, 1, 2}, A = {4, 5, 6}, and A = {3}\n",
    "A_012 = {0, 1, 2}\n",
    "A_456 = {4, 5, 6}\n",
    "A_3 = {3}\n",
    "\n",
    "# Calculate the hitting probabilities for each set\n",
    "def hitting_probabilities(transition_matrix, A):\n",
    "    num_states = transition_matrix.shape[0]\n",
    "    Q = transition_matrix[np.ix_(list(A), list(A))]\n",
    "    N = np.linalg.inv(np.identity(len(A)) - Q)\n",
    "    hitting_probs = np.sum(N, axis=1)\n",
    "    return hitting_probs\n",
    "\n",
    "hitting_probs_A_012 = hitting_probabilities(transition_matrix, A_012)\n",
    "hitting_probs_A_456 = hitting_probabilities(transition_matrix, A_456)\n",
    "hitting_probs_A_3 = hitting_probabilities(transition_matrix, A_3)\n",
    "\n",
    "print(\"Hitting probabilities of A = {0, 1, 2}:\", hitting_probs_A_012)\n",
    "print(\"Hitting probabilities of A = {4, 5, 6}:\", hitting_probs_A_456)\n",
    "print(\"Hitting probabilities of A = {3}:\", hitting_probs_A_3)\n"
   ]
  },
  {
   "cell_type": "code",
   "execution_count": null,
   "metadata": {},
   "outputs": [],
   "source": [
    "import numpy as np\n",
    "\n",
    "# Define the transition probability matrix (replace this with your actual data)\n",
    "transition_matrix = np.array([\n",
    "    [0.1, 0.6, 0.3, 0.0, 0.0, 0.0, 0.0],\n",
    "    [0.2, 0.0, 0.7, 0.1, 0.0, 0.0, 0.0],\n",
    "    [0.3, 0.0, 0.4, 0.3, 0.0, 0.0, 0.0],\n",
    "    [0.0, 0.0, 0.0, 1.0, 0.0, 0.0, 0.0],\n",
    "    [0.0, 0.0, 0.0, 0.0, 0.4, 0.5, 0.1],\n",
    "    [0.0, 0.0, 0.0, 0.0, 0.2, 0.2, 0.6],\n",
    "    [0.0, 0.0, 0.0, 0.0, 0.0, 0.0, 1.0]\n",
    "])\n",
    "\n",
    "# Define the starting and target states\n",
    "start_state_1 = 1\n",
    "target_state_0 = 0\n",
    "start_state_3 = 3\n",
    "target_state_6 = 6\n",
    "\n",
    "# Calculate the hitting probabilities using the fundamental matrix method\n",
    "def hitting_probability(transition_matrix, start_state, target_state):\n",
    "    Q = transition_matrix[target_state, target_state]\n",
    "    N = np.linalg.inv(np.identity(1) - Q)\n",
    "    probability = N[0][0] * transition_matrix[start_state, target_state]\n",
    "    return probability\n",
    "\n",
    "probability_1_to_0 = hitting_probability(transition_matrix, start_state_1, target_state_0)\n",
    "probability_3_to_6 = hitting_probability(transition_matrix, start_state_3, target_state_6)\n",
    "\n",
    "print(f\"Probability of hitting 0 starting from 1: {probability_1_to_0:.4f}\")\n",
    "print(f\"Probability of hitting 6 starting from 3: {probability_3_to_6:.4f}\")\n"
   ]
  }
 ],
 "metadata": {
  "kernelspec": {
   "display_name": "iitm_PL",
   "language": "python",
   "name": "python3"
  },
  "language_info": {
   "codemirror_mode": {
    "name": "ipython",
    "version": 3
   },
   "file_extension": ".py",
   "mimetype": "text/x-python",
   "name": "python",
   "nbconvert_exporter": "python",
   "pygments_lexer": "ipython3",
   "version": "3.10.12"
  }
 },
 "nbformat": 4,
 "nbformat_minor": 2
}

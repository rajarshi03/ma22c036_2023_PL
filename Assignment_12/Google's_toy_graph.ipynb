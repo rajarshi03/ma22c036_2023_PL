{
 "cells": [
  {
   "cell_type": "code",
   "execution_count": 4,
   "metadata": {},
   "outputs": [],
   "source": [
    "import os\n",
    "import urllib\n",
    "import shutil\n",
    "import numpy as np"
   ]
  },
  {
   "cell_type": "code",
   "execution_count": 5,
   "metadata": {},
   "outputs": [],
   "source": [
    "# The file is located here:\n",
    "url = \"https://snap.stanford.edu/data/web-Google.txt.gz\"\n",
    "\n",
    "# Download and copy it here using the code below:\n",
    "data_file = 'web-Google.txt.gz'\n",
    "\n",
    "if not os.path.exists(data_file):\n",
    "    r = urllib.request.urlopen(url)\n",
    "    with open(data_file, 'wb') as fo:\n",
    "        shutil.copyfileobj(r, fo)\n"
   ]
  },
  {
   "cell_type": "code",
   "execution_count": 6,
   "metadata": {},
   "outputs": [],
   "source": [
    "def power_iteration(graph, r, num_iterations):\n",
    "    N = len(graph)\n",
    "    page_rank = np.ones(N) / N  # Initialize PageRank equally for all nodes\n",
    "\n",
    "    for _ in range(num_iterations):\n",
    "        page_rank = r * np.dot(graph, page_rank) + (1 - r) / N\n",
    "\n",
    "    return page_rank"
   ]
  }
 ],
 "metadata": {
  "kernelspec": {
   "display_name": "iitm_PL",
   "language": "python",
   "name": "python3"
  },
  "language_info": {
   "codemirror_mode": {
    "name": "ipython",
    "version": 3
   },
   "file_extension": ".py",
   "mimetype": "text/x-python",
   "name": "python",
   "nbconvert_exporter": "python",
   "pygments_lexer": "ipython3",
   "version": "3.10.12"
  }
 },
 "nbformat": 4,
 "nbformat_minor": 2
}

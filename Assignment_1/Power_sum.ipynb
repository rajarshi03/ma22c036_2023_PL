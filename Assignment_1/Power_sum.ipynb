{
 "cells": [
  {
   "cell_type": "markdown",
   "metadata": {},
   "source": [
    "$$\\sum_{n=1}^N n^i $$"
   ]
  },
  {
   "cell_type": "code",
   "execution_count": 1,
   "metadata": {},
   "outputs": [
    {
     "data": {
      "text/plain": [
       "3025"
      ]
     },
     "execution_count": 1,
     "metadata": {},
     "output_type": "execute_result"
    }
   ],
   "source": [
    "def p_sum(i,N):\n",
    "    sum=0\n",
    "    for n in range(1,N+1):\n",
    "        sum+=n**i\n",
    "\n",
    "    return sum\n",
    "\n",
    "p_sum(3,10)\n"
   ]
  },
  {
   "cell_type": "code",
   "execution_count": 2,
   "metadata": {},
   "outputs": [
    {
     "data": {
      "text/latex": [
       "\\begin{equation*}\n",
       "\\sum_{n=1}^{15} n^{2} = {1240}\n",
       "\\end{equation*}\n"
      ],
      "text/plain": [
       "<IPython.core.display.Latex object>"
      ]
     },
     "execution_count": 2,
     "metadata": {},
     "output_type": "execute_result"
    }
   ],
   "source": [
    "from IPython.display import Latex\n",
    "\n",
    "#Enter the value of i and N in the sum\n",
    "i=int(input('Enter the value of i:  '))\n",
    "N=int(input('Enter the value of N:  '))\n",
    "\n",
    "s=p_sum(i,N)\n",
    "\n",
    "Latex(f\"\"\"\\\\begin{{equation*}}\n",
    "\\\\sum_{{n=1}}^{{{N}}} n^{{{i}}} = {{{s}}}\n",
    "\\\\end{{equation*}}\n",
    "\"\"\")"
   ]
  },
  {
   "cell_type": "code",
   "execution_count": 3,
   "metadata": {},
   "outputs": [
    {
     "name": "stdout",
     "output_type": "stream",
     "text": [
      "N(N+1)(2N+1)/6 =  1240.0 \n",
      "\n",
      "So the code is correct\n"
     ]
    }
   ],
   "source": [
    "if i==2:\n",
    "    f=N*(N+1)*(2*N+1)/6\n",
    "    print('N(N+1)(2N+1)/6 = ',f,'\\n')\n",
    "\n",
    "if f==s:\n",
    "    print(\"So the code is correct\")\n",
    "else:\n",
    "    print(\"The code is incorrect\")"
   ]
  }
 ],
 "metadata": {
  "kernelspec": {
   "display_name": "Python 3 (ipykernel)",
   "language": "python",
   "name": "python3"
  },
  "language_info": {
   "codemirror_mode": {
    "name": "ipython",
    "version": 3
   },
   "file_extension": ".py",
   "mimetype": "text/x-python",
   "name": "python",
   "nbconvert_exporter": "python",
   "pygments_lexer": "ipython3",
   "version": "3.10.12"
  }
 },
 "nbformat": 4,
 "nbformat_minor": 4
}

{
 "cells": [
  {
   "cell_type": "code",
   "execution_count": 13,
   "metadata": {},
   "outputs": [],
   "source": [
    "import pandas as pd\n",
    "import os\n",
    "from git import Repo\n",
    "import matplotlib.pyplot as plt\n",
    "import geopandas as gpd\n",
    "import urllib\n",
    "import shutil\n",
    "%matplotlib inline"
   ]
  },
  {
   "cell_type": "code",
   "execution_count": 26,
   "metadata": {},
   "outputs": [],
   "source": [
    "covidfolder = \"c:\\\\Users\\\\Rajarshi\\\\ma22c036_2023_PL\\\\Assignment_1\\\\COVID\""
   ]
  },
  {
   "cell_type": "code",
   "execution_count": 34,
   "metadata": {},
   "outputs": [
    {
     "ename": "GitCommandError",
     "evalue": "Cmd('git') failed due to: exit code(128)\n  cmdline: git clone -v -- https://github.com/CSSEGISandData/COVID-19.↪→git c:\\Users\\Rajarshi\\ma22c036_2023_PL\\Assignment_1\\COVID\n  stderr: 'Cloning into 'c:\\Users\\Rajarshi\\ma22c036_2023_PL\\Assignment_1\\COVID'...\nremote: Repository not found.\nfatal: repository 'https://github.com/CSSEGISandData/COVID-19.↪→git/' not found\n'",
     "output_type": "error",
     "traceback": [
      "\u001b[1;31m---------------------------------------------------------------------------\u001b[0m",
      "\u001b[1;31mGitCommandError\u001b[0m                           Traceback (most recent call last)",
      "Cell \u001b[1;32mIn[34], line 5\u001b[0m\n\u001b[0;32m      3\u001b[0m     repo\u001b[39m.\u001b[39mremotes\u001b[39m.\u001b[39morigin\u001b[39m.\u001b[39mpull()\n\u001b[0;32m      4\u001b[0m \u001b[39melse\u001b[39;00m: \u001b[39m# otherwise, clone from remote\u001b[39;00m\n\u001b[1;32m----> 5\u001b[0m     repo \u001b[39m=\u001b[39m Repo\u001b[39m.\u001b[39;49mclone_from(\u001b[39m'\u001b[39;49m\u001b[39mhttps://github.com/CSSEGISandData/COVID-19.↪→git\u001b[39;49m\u001b[39m'\u001b[39;49m,covidfolder)\n\u001b[0;32m      6\u001b[0m     datadir \u001b[39m=\u001b[39m repo\u001b[39m.\u001b[39mworking_dir \u001b[39m+\u001b[39m \u001b[39m'\u001b[39m\u001b[39m/csse_covid_19_data/↪→csse_covid_19_daily_reports\u001b[39m\u001b[39m'\u001b[39m\n",
      "File \u001b[1;32mc:\\Users\\Rajarshi\\miniconda3\\envs\\iitm_PL\\lib\\site-packages\\git\\repo\\base.py:1327\u001b[0m, in \u001b[0;36mRepo.clone_from\u001b[1;34m(cls, url, to_path, progress, env, multi_options, allow_unsafe_protocols, allow_unsafe_options, **kwargs)\u001b[0m\n\u001b[0;32m   1325\u001b[0m \u001b[39mif\u001b[39;00m env \u001b[39mis\u001b[39;00m \u001b[39mnot\u001b[39;00m \u001b[39mNone\u001b[39;00m:\n\u001b[0;32m   1326\u001b[0m     git\u001b[39m.\u001b[39mupdate_environment(\u001b[39m*\u001b[39m\u001b[39m*\u001b[39menv)\n\u001b[1;32m-> 1327\u001b[0m \u001b[39mreturn\u001b[39;00m \u001b[39mcls\u001b[39m\u001b[39m.\u001b[39m_clone(\n\u001b[0;32m   1328\u001b[0m     git,\n\u001b[0;32m   1329\u001b[0m     url,\n\u001b[0;32m   1330\u001b[0m     to_path,\n\u001b[0;32m   1331\u001b[0m     GitCmdObjectDB,\n\u001b[0;32m   1332\u001b[0m     progress,\n\u001b[0;32m   1333\u001b[0m     multi_options,\n\u001b[0;32m   1334\u001b[0m     allow_unsafe_protocols\u001b[39m=\u001b[39mallow_unsafe_protocols,\n\u001b[0;32m   1335\u001b[0m     allow_unsafe_options\u001b[39m=\u001b[39mallow_unsafe_options,\n\u001b[0;32m   1336\u001b[0m     \u001b[39m*\u001b[39m\u001b[39m*\u001b[39mkwargs,\n\u001b[0;32m   1337\u001b[0m )\n",
      "File \u001b[1;32mc:\\Users\\Rajarshi\\miniconda3\\envs\\iitm_PL\\lib\\site-packages\\git\\repo\\base.py:1236\u001b[0m, in \u001b[0;36mRepo._clone\u001b[1;34m(cls, git, url, path, odb_default_type, progress, multi_options, allow_unsafe_protocols, allow_unsafe_options, **kwargs)\u001b[0m\n\u001b[0;32m   1233\u001b[0m     cmdline \u001b[39m=\u001b[39m remove_password_if_present(cmdline)\n\u001b[0;32m   1235\u001b[0m     log\u001b[39m.\u001b[39mdebug(\u001b[39m\"\u001b[39m\u001b[39mCmd(\u001b[39m\u001b[39m%s\u001b[39;00m\u001b[39m)\u001b[39m\u001b[39m'\u001b[39m\u001b[39ms unused stdout: \u001b[39m\u001b[39m%s\u001b[39;00m\u001b[39m\"\u001b[39m, cmdline, stdout)\n\u001b[1;32m-> 1236\u001b[0m     finalize_process(proc, stderr\u001b[39m=\u001b[39;49mstderr)\n\u001b[0;32m   1238\u001b[0m \u001b[39m# our git command could have a different working dir than our actual\u001b[39;00m\n\u001b[0;32m   1239\u001b[0m \u001b[39m# environment, hence we prepend its working dir if required\u001b[39;00m\n\u001b[0;32m   1240\u001b[0m \u001b[39mif\u001b[39;00m \u001b[39mnot\u001b[39;00m osp\u001b[39m.\u001b[39misabs(path):\n",
      "File \u001b[1;32mc:\\Users\\Rajarshi\\miniconda3\\envs\\iitm_PL\\lib\\site-packages\\git\\util.py:419\u001b[0m, in \u001b[0;36mfinalize_process\u001b[1;34m(proc, **kwargs)\u001b[0m\n\u001b[0;32m    417\u001b[0m \u001b[39m\"\"\"Wait for the process (clone, fetch, pull or push) and handle its errors accordingly\"\"\"\u001b[39;00m\n\u001b[0;32m    418\u001b[0m \u001b[39m# TODO: No close proc-streams??\u001b[39;00m\n\u001b[1;32m--> 419\u001b[0m proc\u001b[39m.\u001b[39mwait(\u001b[39m*\u001b[39m\u001b[39m*\u001b[39mkwargs)\n",
      "File \u001b[1;32mc:\\Users\\Rajarshi\\miniconda3\\envs\\iitm_PL\\lib\\site-packages\\git\\cmd.py:604\u001b[0m, in \u001b[0;36mGit.AutoInterrupt.wait\u001b[1;34m(self, stderr)\u001b[0m\n\u001b[0;32m    602\u001b[0m     errstr \u001b[39m=\u001b[39m read_all_from_possibly_closed_stream(p_stderr)\n\u001b[0;32m    603\u001b[0m     log\u001b[39m.\u001b[39mdebug(\u001b[39m\"\u001b[39m\u001b[39mAutoInterrupt wait stderr: \u001b[39m\u001b[39m%r\u001b[39;00m\u001b[39m\"\u001b[39m \u001b[39m%\u001b[39m (errstr,))\n\u001b[1;32m--> 604\u001b[0m     \u001b[39mraise\u001b[39;00m GitCommandError(remove_password_if_present(\u001b[39mself\u001b[39m\u001b[39m.\u001b[39margs), status, errstr)\n\u001b[0;32m    605\u001b[0m \u001b[39mreturn\u001b[39;00m status\n",
      "\u001b[1;31mGitCommandError\u001b[0m: Cmd('git') failed due to: exit code(128)\n  cmdline: git clone -v -- https://github.com/CSSEGISandData/COVID-19.↪→git c:\\Users\\Rajarshi\\ma22c036_2023_PL\\Assignment_1\\COVID\n  stderr: 'Cloning into 'c:\\Users\\Rajarshi\\ma22c036_2023_PL\\Assignment_1\\COVID'...\nremote: Repository not found.\nfatal: repository 'https://github.com/CSSEGISandData/COVID-19.↪→git/' not found\n'"
     ]
    }
   ],
   "source": [
    "if os.path.isdir(covidfolder): # if repo exists, pull newest data\n",
    "    repo = Repo(covidfolder)\n",
    "    repo.remotes.origin.pull()\n",
    "else: # otherwise, clone from remote\n",
    "    repo = Repo.clone_from('https://github.com/CSSEGISandData/COVID-19.↪→git',covidfolder)\n",
    "    datadir = repo.working_dir + '/csse_covid_19_data/↪→csse_covid_19_daily_reports'"
   ]
  }
 ],
 "metadata": {
  "kernelspec": {
   "display_name": "iitm_PL",
   "language": "python",
   "name": "python3"
  },
  "language_info": {
   "codemirror_mode": {
    "name": "ipython",
    "version": 3
   },
   "file_extension": ".py",
   "mimetype": "text/x-python",
   "name": "python",
   "nbconvert_exporter": "python",
   "pygments_lexer": "ipython3",
   "version": "3.10.12"
  },
  "orig_nbformat": 4
 },
 "nbformat": 4,
 "nbformat_minor": 2
}

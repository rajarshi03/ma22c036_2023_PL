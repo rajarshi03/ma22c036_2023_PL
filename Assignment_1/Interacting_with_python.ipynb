{
 "cells": [
  {
   "cell_type": "markdown",
   "metadata": {},
   "source": [
    "$$\\cos(\\pi\\sqrt\\pi)^7=$$"
   ]
  },
  {
   "cell_type": "code",
   "execution_count": 1,
   "metadata": {},
   "outputs": [
    {
     "data": {
      "text/plain": [
       "0.14008146171564725"
      ]
     },
     "execution_count": 1,
     "metadata": {},
     "output_type": "execute_result"
    }
   ],
   "source": [
    "from math import cos, sqrt, pi\n",
    "cos(pi*sqrt(pi))**7"
   ]
  },
  {
   "cell_type": "code",
   "execution_count": 6,
   "metadata": {},
   "outputs": [
    {
     "name": "stdout",
     "output_type": "stream",
     "text": [
      "Hello, I can compute! \n",
      "Starting from x = 3 we have computed y= -0.013884089495354414\n"
     ]
    }
   ],
   "source": [
    "# %load myfirstpy.py\n",
    "#------- myfirstpy.py ---------------------------------\n",
    "from math import cos, sqrt, pi\n",
    "print('Hello, I can compute! ')\n",
    "x = 3\n",
    "y = cos(pi*sqrt(pi)*x)**7\n",
    "print('Starting from x =', x, 'we have computed y=', y)\n",
    "#------------------------------------------------------"
   ]
  }
 ],
 "metadata": {
  "kernelspec": {
   "display_name": "iitm_PL",
   "language": "python",
   "name": "python3"
  },
  "language_info": {
   "codemirror_mode": {
    "name": "ipython",
    "version": 3
   },
   "file_extension": ".py",
   "mimetype": "text/x-python",
   "name": "python",
   "nbconvert_exporter": "python",
   "pygments_lexer": "ipython3",
   "version": "3.10.12"
  },
  "orig_nbformat": 4
 },
 "nbformat": 4,
 "nbformat_minor": 2
}

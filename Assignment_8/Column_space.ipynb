{
 "cells": [
  {
   "cell_type": "code",
   "execution_count": 1,
   "metadata": {},
   "outputs": [],
   "source": [
    "import numpy as np\n",
    "from scipy.linalg import svd, qr\n",
    "\n",
    "A = np.array([[1, -2, 3, -3], [2, -4, 9, -2], [-3, 6, -9, 9]])"
   ]
  },
  {
   "cell_type": "code",
   "execution_count": 2,
   "metadata": {},
   "outputs": [
    {
     "name": "stdout",
     "output_type": "stream",
     "text": [
      "[[-0.26726124  0.95618289 -0.11952286]\n",
      " [-0.53452248 -0.04390192  0.84401323]\n",
      " [ 0.80178373  0.28945968  0.52283453]]\n"
     ]
    }
   ],
   "source": [
    "# Column space of A using QR\n",
    "\n",
    "Q, R = qr(A)\n",
    "column_space_basis_qr = Q       # The columns of Q form a basis for the column space\n",
    "print(column_space_basis_qr)    "
   ]
  },
  {
   "cell_type": "code",
   "execution_count": 3,
   "metadata": {},
   "outputs": [
    {
     "name": "stdout",
     "output_type": "stream",
     "text": [
      "[[-2.66235859e-01 -1.70641342e-01  9.48683298e-01]\n",
      " [-5.39615303e-01  8.41911709e-01 -5.55111512e-17]\n",
      " [ 7.98707576e-01  5.11924025e-01  3.16227766e-01]]\n"
     ]
    }
   ],
   "source": [
    "# Column space of A using SVD\n",
    "\n",
    "U, S, Vt = svd(A)\n",
    "column_space_basis_svd = U      # The columns of U form a basis for the column space\n",
    "print(column_space_basis_svd)"
   ]
  },
  {
   "cell_type": "code",
   "execution_count": 4,
   "metadata": {},
   "outputs": [
    {
     "name": "stdout",
     "output_type": "stream",
     "text": [
      "Column spaces obtained using QR and SVD are the same.\n"
     ]
    }
   ],
   "source": [
    "# To check if two bases span the same space, we can compare their dimensions.\n",
    "# If the dimensions are the same, they span the same space as they are subset of column space.\n",
    "\n",
    "if column_space_basis_qr.shape[1] == column_space_basis_svd.shape[1]:\n",
    "    print(\"Column spaces obtained using QR and SVD are the same.\")\n",
    "else:\n",
    "    print(\"Column spaces obtained using QR and SVD are not the same.\")"
   ]
  },
  {
   "cell_type": "code",
   "execution_count": 5,
   "metadata": {},
   "outputs": [
    {
     "name": "stdout",
     "output_type": "stream",
     "text": [
      "QR decomposition is faster for a 500x500 random matrix. QR time=0.01001s and SVD time=0.03399s\n"
     ]
    }
   ],
   "source": [
    "import time\n",
    "\n",
    "random_matrix = np.random.rand(500, 500)\n",
    "\n",
    "# Measure the time taken for QR decomposition\n",
    "start_time_qr = time.time()\n",
    "Q, R = qr(random_matrix)\n",
    "qr_time = time.time() - start_time_qr\n",
    "\n",
    "# Measure the time taken for SVD\n",
    "start_time_svd = time.time()\n",
    "U, S, Vt = svd(random_matrix)\n",
    "svd_time = time.time() - start_time_svd\n",
    "\n",
    "if qr_time < svd_time:\n",
    "    print(f\"QR decomposition is faster for a 500x500 random matrix. QR time={qr_time:.5f}s and SVD time={svd_time:.5f}s\")\n",
    "else:\n",
    "    print(\"SVD is faster for a 500x500 random matrix. QR time={qr_time:.5f}s and SVD time={svd_time:.5f}s\")"
   ]
  }
 ],
 "metadata": {
  "kernelspec": {
   "display_name": "iitm_PL",
   "language": "python",
   "name": "python3"
  },
  "language_info": {
   "codemirror_mode": {
    "name": "ipython",
    "version": 3
   },
   "file_extension": ".py",
   "mimetype": "text/x-python",
   "name": "python",
   "nbconvert_exporter": "python",
   "pygments_lexer": "ipython3",
   "version": "3.10.12"
  },
  "orig_nbformat": 4
 },
 "nbformat": 4,
 "nbformat_minor": 2
}

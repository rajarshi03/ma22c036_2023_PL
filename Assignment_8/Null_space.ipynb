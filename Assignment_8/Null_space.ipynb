{
 "cells": [
  {
   "cell_type": "code",
   "execution_count": 1,
   "metadata": {},
   "outputs": [
    {
     "data": {
      "text/plain": [
       "array([[ 1, -2,  9,  5,  4],\n",
       "       [ 1, -1,  6,  5, -3],\n",
       "       [-2,  0, -6,  1, -2],\n",
       "       [ 4,  1,  9,  1, -9]])"
      ]
     },
     "execution_count": 1,
     "metadata": {},
     "output_type": "execute_result"
    }
   ],
   "source": [
    "import numpy as np\n",
    "from scipy.linalg import svd, qr\n",
    "\n",
    "A = np.array([[1, -2, 9, 5, 4,], [1, -1, 6, 5, -3], [-2, 0, -6, 1, -2],[4, 1, 9, 1, -9]])\n",
    "A"
   ]
  },
  {
   "cell_type": "code",
   "execution_count": 2,
   "metadata": {},
   "outputs": [
    {
     "name": "stdout",
     "output_type": "stream",
     "text": [
      "[ 0.87219483 -0.3573579  -0.29073161  0.14709627  0.07354813]\n"
     ]
    }
   ],
   "source": [
    "# null space of A using SVD\n",
    "\n",
    "U, S, Vt = svd(A)\n",
    "null_space_svd = Vt.T[:, np.where(S < 1e-10)].squeeze()\n",
    "print(null_space_svd)"
   ]
  },
  {
   "cell_type": "code",
   "execution_count": 3,
   "metadata": {},
   "outputs": [
    {
     "name": "stdout",
     "output_type": "stream",
     "text": [
      "[[[ 0.86110487]]\n",
      "\n",
      " [[-0.3919859 ]]\n",
      "\n",
      " [[-0.28703496]]\n",
      "\n",
      " [[ 0.13403399]]\n",
      "\n",
      " [[ 0.067017  ]]]\n"
     ]
    }
   ],
   "source": [
    "# The null space of A is the orthogonal complement of the range of A transpose.\n",
    "# The range of A transpose is the column space of A.\n",
    "\n",
    "Q, R = qr(A.T)\n",
    "null_space_qr = Q[:, np.where(np.abs(np.diag(R)) < 1e-10)]      # The null space vectors are the columns of Q corresponding to zero columns in R\n",
    "print(null_space_qr)"
   ]
  },
  {
   "cell_type": "code",
   "execution_count": 4,
   "metadata": {},
   "outputs": [
    {
     "name": "stdout",
     "output_type": "stream",
     "text": [
      "Null spaces obtained using SVD and QR span the same space.\n"
     ]
    }
   ],
   "source": [
    "if null_space_svd.shape[0] == null_space_qr.shape[0]:\n",
    "    print(\"Null spaces obtained using SVD and QR span the same space.\")\n",
    "else:\n",
    "    print(\"Null spaces obtained using SVD and QR do not span the same space.\")"
   ]
  }
 ],
 "metadata": {
  "kernelspec": {
   "display_name": "iitm_PL",
   "language": "python",
   "name": "python3"
  },
  "language_info": {
   "codemirror_mode": {
    "name": "ipython",
    "version": 3
   },
   "file_extension": ".py",
   "mimetype": "text/x-python",
   "name": "python",
   "nbconvert_exporter": "python",
   "pygments_lexer": "ipython3",
   "version": "3.10.12"
  },
  "orig_nbformat": 4
 },
 "nbformat": 4,
 "nbformat_minor": 2
}

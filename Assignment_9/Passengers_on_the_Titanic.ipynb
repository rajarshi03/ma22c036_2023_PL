{
 "cells": [
  {
   "cell_type": "code",
   "execution_count": 1,
   "metadata": {},
   "outputs": [],
   "source": [
    "import numpy as np\n",
    "import pandas as pd\n",
    "import seaborn"
   ]
  },
  {
   "cell_type": "code",
   "execution_count": 2,
   "metadata": {},
   "outputs": [
    {
     "data": {
      "text/html": [
       "<div>\n",
       "<style scoped>\n",
       "    .dataframe tbody tr th:only-of-type {\n",
       "        vertical-align: middle;\n",
       "    }\n",
       "\n",
       "    .dataframe tbody tr th {\n",
       "        vertical-align: top;\n",
       "    }\n",
       "\n",
       "    .dataframe thead th {\n",
       "        text-align: right;\n",
       "    }\n",
       "</style>\n",
       "<table border=\"1\" class=\"dataframe\">\n",
       "  <thead>\n",
       "    <tr style=\"text-align: right;\">\n",
       "      <th></th>\n",
       "      <th>survived</th>\n",
       "      <th>pclass</th>\n",
       "      <th>sex</th>\n",
       "      <th>age</th>\n",
       "      <th>sibsp</th>\n",
       "      <th>parch</th>\n",
       "      <th>fare</th>\n",
       "      <th>embarked</th>\n",
       "      <th>class</th>\n",
       "      <th>who</th>\n",
       "      <th>adult_male</th>\n",
       "      <th>deck</th>\n",
       "      <th>embark_town</th>\n",
       "      <th>alive</th>\n",
       "      <th>alone</th>\n",
       "    </tr>\n",
       "  </thead>\n",
       "  <tbody>\n",
       "    <tr>\n",
       "      <th>0</th>\n",
       "      <td>0</td>\n",
       "      <td>3</td>\n",
       "      <td>male</td>\n",
       "      <td>22.0</td>\n",
       "      <td>1</td>\n",
       "      <td>0</td>\n",
       "      <td>7.2500</td>\n",
       "      <td>S</td>\n",
       "      <td>Third</td>\n",
       "      <td>man</td>\n",
       "      <td>True</td>\n",
       "      <td>NaN</td>\n",
       "      <td>Southampton</td>\n",
       "      <td>no</td>\n",
       "      <td>False</td>\n",
       "    </tr>\n",
       "    <tr>\n",
       "      <th>1</th>\n",
       "      <td>1</td>\n",
       "      <td>1</td>\n",
       "      <td>female</td>\n",
       "      <td>38.0</td>\n",
       "      <td>1</td>\n",
       "      <td>0</td>\n",
       "      <td>71.2833</td>\n",
       "      <td>C</td>\n",
       "      <td>First</td>\n",
       "      <td>woman</td>\n",
       "      <td>False</td>\n",
       "      <td>C</td>\n",
       "      <td>Cherbourg</td>\n",
       "      <td>yes</td>\n",
       "      <td>False</td>\n",
       "    </tr>\n",
       "    <tr>\n",
       "      <th>2</th>\n",
       "      <td>1</td>\n",
       "      <td>3</td>\n",
       "      <td>female</td>\n",
       "      <td>26.0</td>\n",
       "      <td>0</td>\n",
       "      <td>0</td>\n",
       "      <td>7.9250</td>\n",
       "      <td>S</td>\n",
       "      <td>Third</td>\n",
       "      <td>woman</td>\n",
       "      <td>False</td>\n",
       "      <td>NaN</td>\n",
       "      <td>Southampton</td>\n",
       "      <td>yes</td>\n",
       "      <td>True</td>\n",
       "    </tr>\n",
       "    <tr>\n",
       "      <th>3</th>\n",
       "      <td>1</td>\n",
       "      <td>1</td>\n",
       "      <td>female</td>\n",
       "      <td>35.0</td>\n",
       "      <td>1</td>\n",
       "      <td>0</td>\n",
       "      <td>53.1000</td>\n",
       "      <td>S</td>\n",
       "      <td>First</td>\n",
       "      <td>woman</td>\n",
       "      <td>False</td>\n",
       "      <td>C</td>\n",
       "      <td>Southampton</td>\n",
       "      <td>yes</td>\n",
       "      <td>False</td>\n",
       "    </tr>\n",
       "    <tr>\n",
       "      <th>4</th>\n",
       "      <td>0</td>\n",
       "      <td>3</td>\n",
       "      <td>male</td>\n",
       "      <td>35.0</td>\n",
       "      <td>0</td>\n",
       "      <td>0</td>\n",
       "      <td>8.0500</td>\n",
       "      <td>S</td>\n",
       "      <td>Third</td>\n",
       "      <td>man</td>\n",
       "      <td>True</td>\n",
       "      <td>NaN</td>\n",
       "      <td>Southampton</td>\n",
       "      <td>no</td>\n",
       "      <td>True</td>\n",
       "    </tr>\n",
       "  </tbody>\n",
       "</table>\n",
       "</div>"
      ],
      "text/plain": [
       "   survived  pclass     sex   age  sibsp  parch     fare embarked  class  \\\n",
       "0         0       3    male  22.0      1      0   7.2500        S  Third   \n",
       "1         1       1  female  38.0      1      0  71.2833        C  First   \n",
       "2         1       3  female  26.0      0      0   7.9250        S  Third   \n",
       "3         1       1  female  35.0      1      0  53.1000        S  First   \n",
       "4         0       3    male  35.0      0      0   8.0500        S  Third   \n",
       "\n",
       "     who  adult_male deck  embark_town alive  alone  \n",
       "0    man        True  NaN  Southampton    no  False  \n",
       "1  woman       False    C    Cherbourg   yes  False  \n",
       "2  woman       False  NaN  Southampton   yes   True  \n",
       "3  woman       False    C  Southampton   yes  False  \n",
       "4    man        True  NaN  Southampton    no   True  "
      ]
     },
     "execution_count": 2,
     "metadata": {},
     "output_type": "execute_result"
    }
   ],
   "source": [
    "t = seaborn.load_dataset('titanic')\n",
    "t.head()"
   ]
  },
  {
   "cell_type": "code",
   "execution_count": 3,
   "metadata": {},
   "outputs": [
    {
     "name": "stdout",
     "output_type": "stream",
     "text": [
      "Number of passengers in the dataset: 891\n"
     ]
    }
   ],
   "source": [
    "# How many passengers are described in the dataset?\n",
    "\n",
    "num_passengers = len(t)\n",
    "print(f\"Number of passengers in the dataset: {num_passengers}\")"
   ]
  },
  {
   "cell_type": "code",
   "execution_count": 4,
   "metadata": {},
   "outputs": [
    {
     "name": "stdout",
     "output_type": "stream",
     "text": [
      "Number of distinct values in the 'who' column: 3\n"
     ]
    }
   ],
   "source": [
    "# How many distinct values are in the 'who' column?\n",
    "\n",
    "distinct_who_values = t['who'].nunique()\n",
    "print(f\"Number of distinct values in the 'who' column: {distinct_who_values}\")"
   ]
  },
  {
   "cell_type": "code",
   "execution_count": 5,
   "metadata": {},
   "outputs": [
    {
     "name": "stdout",
     "output_type": "stream",
     "text": [
      "Missing values in each column:\n",
      "survived         0\n",
      "pclass           0\n",
      "sex              0\n",
      "age            177\n",
      "sibsp            0\n",
      "parch            0\n",
      "fare             0\n",
      "embarked         2\n",
      "class            0\n",
      "who              0\n",
      "adult_male       0\n",
      "deck           688\n",
      "embark_town      2\n",
      "alive            0\n",
      "alone            0\n",
      "dtype: int64\n"
     ]
    }
   ],
   "source": [
    "# How many missing values do you find in each data column?\n",
    "\n",
    "missing_values = t.isnull().sum()\n",
    "print(\"Missing values in each column:\")\n",
    "print(missing_values)"
   ]
  },
  {
   "cell_type": "code",
   "execution_count": 6,
   "metadata": {},
   "outputs": [
    {
     "name": "stdout",
     "output_type": "stream",
     "text": [
      "Number of passengers over 60 years old: 22\n"
     ]
    }
   ],
   "source": [
    "# Does the data contain passengers over 60 years old? How many?\n",
    "\n",
    "passengers_over_60 = t[t['age'] > 60]\n",
    "num_passengers_over_60 = len(passengers_over_60)\n",
    "print(f\"Number of passengers over 60 years old: {num_passengers_over_60}\")"
   ]
  },
  {
   "cell_type": "code",
   "execution_count": 7,
   "metadata": {},
   "outputs": [
    {
     "data": {
      "image/png": "[encoded data removed]",
      "text/plain": [
       "<Figure size 640x480 with 1 Axes>"
      ]
     },
     "metadata": {},
     "output_type": "display_data"
    }
   ],
   "source": [
    "# What is the passenger age distribution? (Plot it.)\n",
    "\n",
    "import matplotlib.pyplot as plt\n",
    "plt.hist(t['age'].dropna(), bins=20, edgecolor='k')\n",
    "plt.xlabel('Age')\n",
    "plt.ylabel('Count')\n",
    "plt.title('Passenger Age Distribution')\n",
    "plt.show()"
   ]
  },
  {
   "cell_type": "code",
   "execution_count": 8,
   "metadata": {},
   "outputs": [
    {
     "name": "stdout",
     "output_type": "stream",
     "text": [
      "Age 3-quantiles:\n",
      "0.25    20.125\n",
      "0.50    28.000\n",
      "0.75    38.000\n",
      "Name: age, dtype: float64\n"
     ]
    }
   ],
   "source": [
    "# What are the 3-quantiles of the passenger age distribution?\n",
    "\n",
    "age_quantiles = t['age'].quantile([0.25, 0.5, 0.75])\n",
    "print(\"Age 3-quantiles:\")\n",
    "print(age_quantiles)"
   ]
  },
  {
   "cell_type": "code",
   "execution_count": 9,
   "metadata": {},
   "outputs": [],
   "source": [
    "# How will you drop all passengers with no embarked data?\n",
    "\n",
    "t = t.dropna(subset=['embarked'])"
   ]
  },
  {
   "cell_type": "code",
   "execution_count": 10,
   "metadata": {},
   "outputs": [
    {
     "name": "stdout",
     "output_type": "stream",
     "text": [
      "Average fare: 32.10\n",
      "Minimum fare: 0.00\n",
      "Maximum fare: 512.33\n"
     ]
    }
   ],
   "source": [
    "# What is the average, minimum, and maximum fares paid by the passengers?\n",
    "\n",
    "average_fare = t['fare'].mean()\n",
    "minimum_fare = t['fare'].min()\n",
    "maximum_fare = t['fare'].max()\n",
    "print(f\"Average fare: {average_fare:.2f}\")\n",
    "print(f\"Minimum fare: {minimum_fare:.2f}\")\n",
    "print(f\"Maximum fare: {maximum_fare:.2f}\")"
   ]
  },
  {
   "cell_type": "code",
   "execution_count": 11,
   "metadata": {},
   "outputs": [
    {
     "name": "stdout",
     "output_type": "stream",
     "text": [
      "Proportions of passengers in different classes:\n",
      "class\n",
      "Third     0.552306\n",
      "First     0.240720\n",
      "Second    0.206974\n",
      "Name: proportion, dtype: float64\n"
     ]
    }
   ],
   "source": [
    "# What are the proportions of passengers in different classes?\n",
    "\n",
    "class_proportions = t['class'].value_counts(normalize=True)\n",
    "print(\"Proportions of passengers in different classes:\")\n",
    "print(class_proportions)"
   ]
  },
  {
   "cell_type": "code",
   "execution_count": 12,
   "metadata": {},
   "outputs": [
    {
     "name": "stdout",
     "output_type": "stream",
     "text": [
      "Female to male ratio in each travel class:\n",
      "class   sex   \n",
      "First   female    0.429907\n",
      "        male      0.570093\n",
      "Second  female    0.413043\n",
      "        male      0.586957\n",
      "Third   female    0.293279\n",
      "        male      0.706721\n",
      "Name: sex, dtype: float64\n"
     ]
    }
   ],
   "source": [
    "# What is the female to male ratio in each travel class?\n",
    "\n",
    "gender_ratio = t.groupby(['class', 'sex'])['sex'].count() / t.groupby('class')['sex'].count()\n",
    "print(\"Female to male ratio in each travel class:\")\n",
    "print(gender_ratio)"
   ]
  },
  {
   "cell_type": "code",
   "execution_count": 13,
   "metadata": {},
   "outputs": [
    {
     "name": "stdout",
     "output_type": "stream",
     "text": [
      "Survival rate: 0.38\n"
     ]
    }
   ],
   "source": [
    "# What fraction survived?\n",
    "\n",
    "survival_rate = t['survived'].mean()\n",
    "print(f\"Survival rate: {survival_rate:.2f}\")"
   ]
  },
  {
   "cell_type": "code",
   "execution_count": 14,
   "metadata": {},
   "outputs": [
    {
     "name": "stdout",
     "output_type": "stream",
     "text": [
      "Survival rates by gender:\n",
      "sex\n",
      "female    0.740385\n",
      "male      0.188908\n",
      "Name: survived, dtype: float64\n"
     ]
    }
   ],
   "source": [
    "# Are the survival rates of male and female passengers different?\n",
    "\n",
    "survival_by_gender = t.groupby('sex')['survived'].mean()\n",
    "print(\"Survival rates by gender:\")\n",
    "print(survival_by_gender)"
   ]
  },
  {
   "cell_type": "code",
   "execution_count": 15,
   "metadata": {},
   "outputs": [
    {
     "name": "stdout",
     "output_type": "stream",
     "text": [
      "Survival rates by class:\n",
      "class\n",
      "First     0.626168\n",
      "Second    0.472826\n",
      "Third     0.242363\n",
      "Name: survived, dtype: float64\n"
     ]
    }
   ],
   "source": [
    "# Are the survival rates of first, second, and third class passengers different?\n",
    "\n",
    "survival_by_class = t.groupby('class')['survived'].mean()\n",
    "print(\"Survival rates by class:\")\n",
    "print(survival_by_class)"
   ]
  },
  {
   "cell_type": "code",
   "execution_count": 16,
   "metadata": {},
   "outputs": [
    {
     "name": "stdout",
     "output_type": "stream",
     "text": [
      "Survival rate table:\n",
      "sex       female      male\n",
      "class                     \n",
      "First   0.967391  0.368852\n",
      "Second  0.921053  0.157407\n",
      "Third   0.500000  0.135447\n"
     ]
    }
   ],
   "source": [
    "# How can one print a table of survival rate dependencies on class and gender?\n",
    "\n",
    "survival_table = t.pivot_table(index='class', columns='sex', values='survived', aggfunc='mean')\n",
    "print(\"Survival rate table:\")\n",
    "print(survival_table)"
   ]
  },
  {
   "cell_type": "code",
   "execution_count": 17,
   "metadata": {},
   "outputs": [
    {
     "name": "stdout",
     "output_type": "stream",
     "text": [
      "Survivors and average fare table:\n",
      "               survived        fare\n",
      "class  sex                         \n",
      "First  female        89  106.693750\n",
      "       male          45   67.226127\n",
      "Second female        70   21.970121\n",
      "       male          17   19.741782\n",
      "Third  female        72   16.118810\n",
      "       male          47   12.661633\n"
     ]
    }
   ],
   "source": [
    "# How can one print a table with the number of survivors and average fare for each gender and cabin?\n",
    "\n",
    "survivors_and_fare_table = t.groupby(['class', 'sex'])[['survived', 'fare']].agg({'survived': 'sum', 'fare': 'mean'})\n",
    "print(\"Survivors and average fare table:\")\n",
    "print(survivors_and_fare_table)"
   ]
  }
 ],
 "metadata": {
  "kernelspec": {
   "display_name": "iitm_PL",
   "language": "python",
   "name": "python3"
  },
  "language_info": {
   "codemirror_mode": {
    "name": "ipython",
    "version": 3
   },
   "file_extension": ".py",
   "mimetype": "text/x-python",
   "name": "python",
   "nbconvert_exporter": "python",
   "pygments_lexer": "ipython3",
   "version": "3.10.12"
  },
  "orig_nbformat": 4
 },
 "nbformat": 4,
 "nbformat_minor": 2
}

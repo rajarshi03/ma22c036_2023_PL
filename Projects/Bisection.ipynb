{
 "cells": [
  {
   "cell_type": "code",
   "execution_count": 26,
   "metadata": {},
   "outputs": [],
   "source": [
    "def bisection(f, a, b, eps, niters,n=0):\n",
    "    n+=1   # counting the iterations\n",
    "\n",
    "    if f(a)*f(b)>0:\n",
    "        print(\"This method failed as there is no root or multiple root in [a,b], enter another interval\")\n",
    "\n",
    "    elif f(a)==0:       # f has exact root at a\n",
    "        print(f\"The exact root of f is {a}\")\n",
    "        return a\n",
    "    \n",
    "    elif f(b)==0:       # f has exact root at b\n",
    "        print(f\"The exact root of f is {b}\")\n",
    "        return b\n",
    "    \n",
    "    else:\n",
    "        m=(a+b)/2               # dividing the interval\n",
    "        if f(a)*f(m)<=0: b=m\n",
    "        else: a=m\n",
    "\n",
    "        if abs(b-a)<=eps or n==niters:\n",
    "            print(f\"The approximated root of f is {m} and f({m})=\",f(m))\n",
    "            return m\n",
    "        \n",
    "        else:\n",
    "            bisection(f, a, b, eps, niters,n)"
   ]
  },
  {
   "cell_type": "code",
   "execution_count": 28,
   "metadata": {},
   "outputs": [
    {
     "name": "stdout",
     "output_type": "stream",
     "text": [
      "The approximated root of f is 1.2834287285804749 and f(1.2834287285804749)= -2.5790715785234397e-08\n",
      "\n",
      " Where Epsilon=1e-07 and max-iteration=30\n"
     ]
    }
   ],
   "source": [
    "# Defining the function\n",
    "import math\n",
    "def f(x):\n",
    "    return x-1-math.cos(x)\n",
    "\n",
    "# Getting user inputs\n",
    "a=float(input(\"Enter first left end point of the interval: \"))\n",
    "b=float(input(\"Enter first right end point of the interval: \"))\n",
    "eps=float(input(\"Enter the value of epsilon: \"))\n",
    "niters=int(input(\"Enter maximum number of iterations: \"))\n",
    "\n",
    "# Solving the equation\n",
    "bisection(f,a,b,eps,niters)\n",
    "\n",
    "print(f\"\\n Where Epsilon={eps} and max-iteration={niters}\")"
   ]
  },
  {
   "cell_type": "code",
   "execution_count": 29,
   "metadata": {},
   "outputs": [
    {
     "name": "stdout",
     "output_type": "stream",
     "text": [
      "The approximated root of f is 1.5707963109016418 and f(1.5707963109016418)= 1.5893254773528196e-08\n",
      "\n",
      " Where Epsilon=1e-07 and max-iteration=30\n"
     ]
    }
   ],
   "source": [
    "# Defining the function\n",
    "import math\n",
    "def f(x):\n",
    "    return math.cos(x)\n",
    "\n",
    "# Getting user inputs\n",
    "a=float(input(\"Enter first left end point of the interval: \"))\n",
    "b=float(input(\"Enter first right end point of the interval: \"))\n",
    "eps=float(input(\"Enter the value of epsilon: \"))\n",
    "niters=int(input(\"Enter maximum number of iterations: \"))\n",
    "\n",
    "# Solving the equation\n",
    "bisection(f,a,b,eps,niters)\n",
    "\n",
    "print(f\"\\n Where Epsilon={eps} and max-iteration={niters}\")"
   ]
  }
 ],
 "metadata": {
  "kernelspec": {
   "display_name": "iitm_PL",
   "language": "python",
   "name": "python3"
  },
  "language_info": {
   "codemirror_mode": {
    "name": "ipython",
    "version": 3
   },
   "file_extension": ".py",
   "mimetype": "text/x-python",
   "name": "python",
   "nbconvert_exporter": "python",
   "pygments_lexer": "ipython3",
   "version": "3.10.12"
  },
  "orig_nbformat": 4
 },
 "nbformat": 4,
 "nbformat_minor": 2
}

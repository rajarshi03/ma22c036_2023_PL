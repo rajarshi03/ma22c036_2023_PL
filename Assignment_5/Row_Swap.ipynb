{
 "cells": [
  {
   "cell_type": "code",
   "execution_count": 90,
   "metadata": {},
   "outputs": [],
   "source": [
    "def swaprow(i, j, A):\n",
    "    tmp = A[i, :]\n",
    "    A[i, :] = A[j, :]\n",
    "    A[j, :] = tmp"
   ]
  },
  {
   "cell_type": "code",
   "execution_count": 91,
   "metadata": {},
   "outputs": [
    {
     "name": "stdout",
     "output_type": "stream",
     "text": [
      "[[3 4 1]\n",
      " [5 4 6]\n",
      " [3 1 2]]\n"
     ]
    }
   ],
   "source": [
    "import numpy as np\n",
    "\n",
    "A=np.random.randint(0,10,size=(3,3))        # Creating a random matrix\n",
    "print(A)"
   ]
  },
  {
   "cell_type": "code",
   "execution_count": 92,
   "metadata": {},
   "outputs": [
    {
     "name": "stdout",
     "output_type": "stream",
     "text": [
      "[[3 4 1]\n",
      " [3 1 2]\n",
      " [3 1 2]]\n"
     ]
    }
   ],
   "source": [
    "swaprow(1,2,A)\n",
    "print(A)"
   ]
  },
  {
   "cell_type": "markdown",
   "metadata": {},
   "source": [
    "The method is not correct. Because in python indexing starts from 0. Also tmp is not deep copying the array, it pointing the same object. We have to adjust little bit and add copy()."
   ]
  },
  {
   "cell_type": "code",
   "execution_count": 93,
   "metadata": {},
   "outputs": [],
   "source": [
    "def swaprow(i, j, A):\n",
    "    i-=1        # correcting the index\n",
    "    j-=1\n",
    "\n",
    "    tmp = A[i, :].copy()    # deep copying\n",
    "    A[i, :] = A[j, :]\n",
    "    A[j, :] = tmp"
   ]
  },
  {
   "cell_type": "code",
   "execution_count": 94,
   "metadata": {},
   "outputs": [
    {
     "name": "stdout",
     "output_type": "stream",
     "text": [
      "[[4 8 1]\n",
      " [3 3 5]\n",
      " [4 8 7]]\n"
     ]
    }
   ],
   "source": [
    "import numpy as np\n",
    "\n",
    "A=np.random.randint(0,10,size=(3,3))        # Creating a random matrix\n",
    "print(A)"
   ]
  },
  {
   "cell_type": "code",
   "execution_count": 95,
   "metadata": {},
   "outputs": [
    {
     "name": "stdout",
     "output_type": "stream",
     "text": [
      "[[4 8 1]\n",
      " [4 8 7]\n",
      " [3 3 5]]\n"
     ]
    }
   ],
   "source": [
    "swaprow(2,3,A)\n",
    "print(A)"
   ]
  },
  {
   "cell_type": "markdown",
   "metadata": {},
   "source": [
    "But this is creating unnecessary copies. It is not efficient."
   ]
  },
  {
   "cell_type": "code",
   "execution_count": 96,
   "metadata": {},
   "outputs": [],
   "source": [
    "# Better function for swapping rows\n",
    "\n",
    "def swap_rows(i,j,A):\n",
    "    i-=1 ; j-=1  # correcting to usual indexing\n",
    "\n",
    "    A[[i,j]]=A[[j,i]]   # swaping rows"
   ]
  },
  {
   "cell_type": "code",
   "execution_count": 97,
   "metadata": {},
   "outputs": [
    {
     "name": "stdout",
     "output_type": "stream",
     "text": [
      "[[7 6 9]\n",
      " [6 1 5]\n",
      " [8 5 7]]\n"
     ]
    }
   ],
   "source": [
    "import numpy as np\n",
    "\n",
    "A=np.random.randint(0,10,size=(3,3))        # Creating a random matrix\n",
    "print(A)"
   ]
  },
  {
   "cell_type": "code",
   "execution_count": 98,
   "metadata": {},
   "outputs": [
    {
     "name": "stdout",
     "output_type": "stream",
     "text": [
      "[[7 6 9]\n",
      " [8 5 7]\n",
      " [6 1 5]]\n"
     ]
    }
   ],
   "source": [
    "swap_rows(2,3,A)\n",
    "print(A)"
   ]
  },
  {
   "cell_type": "markdown",
   "metadata": {},
   "source": [
    "This swaps the $i^{th}$ and $j^{th}$ rows using numpy built in feature. Which is more efficient and it does not need to deep copy."
   ]
  }
 ],
 "metadata": {
  "kernelspec": {
   "display_name": "iitm_PL",
   "language": "python",
   "name": "python3"
  },
  "language_info": {
   "codemirror_mode": {
    "name": "ipython",
    "version": 3
   },
   "file_extension": ".py",
   "mimetype": "text/x-python",
   "name": "python",
   "nbconvert_exporter": "python",
   "pygments_lexer": "ipython3",
   "version": "3.10.12"
  },
  "orig_nbformat": 4
 },
 "nbformat": 4,
 "nbformat_minor": 2
}
